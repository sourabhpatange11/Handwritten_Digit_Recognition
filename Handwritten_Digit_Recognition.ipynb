{
 "cells": [
  {
   "cell_type": "code",
   "execution_count": null,
   "id": "3e544faa",
   "metadata": {},
   "outputs": [],
   "source": [
    "import os\n",
    "import cv2\n",
    "import numpy as np\n",
    "from matplotlib import pyplot as plt\n",
    "import tensorflow as tf\n",
    "import keras\n",
    "from keras.layers import Dense,Conv2D,Flatten,MaxPool2D,BatchNormalization,Dropout\n",
    "from keras.models import Sequential"
   ]
  },
  {
   "cell_type": "code",
   "execution_count": null,
   "id": "a7a58f04",
   "metadata": {},
   "outputs": [],
   "source": [
    "\n",
    "(X_train, y_train) , (X_test, y_test) = keras.datasets.mnist.load_data()"
   ]
  },
  {
   "cell_type": "code",
   "execution_count": null,
   "id": "0145e358",
   "metadata": {},
   "outputs": [],
   "source": [
    "X_train = X_train/255\n",
    "X_test= X_test/255"
   ]
  },
  {
   "cell_type": "code",
   "execution_count": null,
   "id": "5e3c710a",
   "metadata": {},
   "outputs": [],
   "source": [
    "X_train = X_train.reshape(-1,28,28,1)\n",
    "X_test = X_test.reshape(-1,28,28,1)"
   ]
  },
  {
   "cell_type": "code",
   "execution_count": null,
   "id": "161553a0",
   "metadata": {},
   "outputs": [],
   "source": [
    "model = Sequential([\n",
    "    tf.keras.layers.Conv2D(16,(3,3),activation ='relu',input_shape= (28,28,1)),\n",
    "    tf.keras.layers.MaxPool2D(),\n",
    "    tf.keras.layers.Conv2D(32,(3,3),activation= 'relu'),\n",
    "    tf.keras.layers.MaxPool2D(),\n",
    "    tf.keras.layers.Conv2D(64,(3,3),activation ='relu'),\n",
    "    tf.keras.layers.MaxPool2D(),\n",
    "    tf.keras.layers.Dropout(0.3),\n",
    "    tf.keras.layers.Flatten(),\n",
    "    tf.keras.layers.Dense(32,activation ='relu'),\n",
    "    tf.keras.layers.Dense(16,activation='relu'),\n",
    "    tf.keras.layers.Dense(10,activation ='softmax')])\n"
   ]
  },
  {
   "cell_type": "code",
   "execution_count": null,
   "id": "c10003bd",
   "metadata": {},
   "outputs": [],
   "source": [
    "model.summary()\n"
   ]
  },
  {
   "cell_type": "code",
   "execution_count": null,
   "id": "dd3310ce",
   "metadata": {},
   "outputs": [],
   "source": [
    "model.compile(optimizer='adam',loss='sparse_categorical_crossentropy',metrics=['accuracy'])\n",
    "\n"
   ]
  },
  {
   "cell_type": "code",
   "execution_count": null,
   "id": "0f7dbc39",
   "metadata": {},
   "outputs": [],
   "source": [
    "model.fit(X_train,y_train,epochs= 50)\n"
   ]
  },
  {
   "cell_type": "code",
   "execution_count": null,
   "id": "6e9cf14e",
   "metadata": {},
   "outputs": [],
   "source": [
    "model.save(\"E:\\\\Sourabh_Data\\\\Sourabh\\\\Handwritten_Recognization.h5\")\n"
   ]
  },
  {
   "cell_type": "code",
   "execution_count": null,
   "id": "16391b77",
   "metadata": {},
   "outputs": [],
   "source": [
    "score= model.evaluate(X_test,y_test)"
   ]
  },
  {
   "cell_type": "code",
   "execution_count": null,
   "id": "b19dc2f0",
   "metadata": {},
   "outputs": [],
   "source": [
    "score= model.evaluate(X_test,y_test)\n"
   ]
  },
  {
   "cell_type": "code",
   "execution_count": null,
   "id": "7e93d6c3",
   "metadata": {},
   "outputs": [],
   "source": [
    "y_pred = model.predict(X_test)\n",
    "\n",
    "y_pred[0:10]\n",
    "\n"
   ]
  },
  {
   "cell_type": "code",
   "execution_count": null,
   "id": "6651853a",
   "metadata": {},
   "outputs": [],
   "source": [
    "prob= np.argmax(y_pred[10])\n",
    "prob\n"
   ]
  },
  {
   "cell_type": "code",
   "execution_count": null,
   "id": "e3d0560f",
   "metadata": {},
   "outputs": [],
   "source": [
    "#Test_Code\n",
    "\n",
    "\n",
    "import cv2\n",
    "import numpy as np\n",
    "from keras.models import load_model\n",
    "\n",
    "# Load the trained model\n",
    "model = load_model(\"E:\\\\Sourabh_Data\\\\Sourabh\\\\Handwritten_Recognization.h5\")\n",
    "\n",
    "# Load and preprocess the image\n",
    "image_path = \"E:\\\\9.png\"  # Replace with the path to your test image\n",
    "image = cv2.imread(image_path, cv2.IMREAD_GRAYSCALE)  # Read the image in grayscale\n",
    "image = cv2.resize(image, (28, 28))  # Resize the image to 28x28 pixels\n",
    "image = image.reshape(1, 28, 28, 1)  # Reshape for model input\n",
    "image = image / 255.0  # Normalize the pixel values to be in the range [0, 1]\n",
    "\n",
    "# Make predictions\n",
    "predictions = model.predict(image)\n",
    "\n",
    "# Get the predicted class label\n",
    "predicted_class = np.argmax(predictions)\n",
    "\n",
    "# Print the predicted class label\n",
    "print(\"Predicted class:\", predicted_class)"
   ]
  }
 ],
 "metadata": {
  "kernelspec": {
   "display_name": "Python 3",
   "language": "python",
   "name": "python3"
  },
  "language_info": {
   "codemirror_mode": {
    "name": "ipython",
    "version": 3
   },
   "file_extension": ".py",
   "mimetype": "text/x-python",
   "name": "python",
   "nbconvert_exporter": "python",
   "pygments_lexer": "ipython3",
   "version": "3.8.8"
  }
 },
 "nbformat": 4,
 "nbformat_minor": 5
}
